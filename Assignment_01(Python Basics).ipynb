{
 "cells": [
  {
   "cell_type": "markdown",
   "metadata": {},
   "source": [
    "# Part -1 Python Basics (Variables)"
   ]
  },
  {
   "cell_type": "markdown",
   "metadata": {},
   "source": [
    "1. Print Your Name with your Father name and Date of birth using suitable escape sequence charactor"
   ]
  },
  {
   "cell_type": "code",
   "execution_count": null,
   "metadata": {},
   "outputs": [],
   "source": [
    "print(\"Name: Muhammad Sami\\nFather:Muhammad Hafeez\\nDOB: 26/12/2006\")"
   ]
  },
  {
   "cell_type": "markdown",
   "metadata": {},
   "source": [
    "2. Write your small bio using variables and print it using print function"
   ]
  },
  {
   "cell_type": "code",
   "execution_count": null,
   "metadata": {},
   "outputs": [],
   "source": [
    "name = \"Muhammad Sami\"\n",
    "age3 = 18\n",
    "height = 164\n",
    "education = \"Matriculation\"\n",
    "city = \"Karachi\"\n",
    "goal = \"cloud data engineer\"\n",
    "print(f\"MY name is {name}. I am {age3} years old. My height is {height}. I have done {education}. I live in {city}. my goal is to become a {goal}.\")\n"
   ]
  },
  {
   "cell_type": "markdown",
   "metadata": {},
   "source": [
    "3. Write a program in which use all the operators we can use in Python"
   ]
  },
  {
   "cell_type": "code",
   "execution_count": null,
   "metadata": {},
   "outputs": [],
   "source": [
    "a = 10 \n",
    "b = 13\n",
    "\n",
    "# arithmetic\n",
    "\n",
    "print(a + b)\n",
    "print(a - b)    \n",
    "print(a * b)\n",
    "print(a / b)\n",
    "print(a % b)    \n",
    "print(a ** b)\n",
    "\n",
    "# comparison\n",
    "\n",
    "print(a == b)\n",
    "print(a != b)       \n",
    "print(a > b)\n",
    "print(a < b)        \n",
    "print(a >= b)\n",
    "print(a <= b)   \n",
    "\n",
    "# assignmen\n",
    "\n",
    "a += b \n",
    "print(a)\n",
    "a -= b      \n",
    "print(a)\n",
    "a *= b\n",
    "print(a)        \n",
    "a /= b\n",
    "print(a)    \n",
    "a %= b  \n",
    "print(a)    \n",
    "a **= b\n",
    "print(a)    \n",
    "\n",
    "\n",
    "# logical\n",
    "\n",
    "c = True\n",
    "d = False       \n",
    "print(c and d)\n",
    "print(c or d)       \n",
    "print(not c)    \n",
    "print(not d)"
   ]
  },
  {
   "cell_type": "markdown",
   "metadata": {},
   "source": [
    "4. Completes the following steps of small task:\n",
    "    - Mention Marks of English , Islamiat and Maths out of 100 in 3 different variables\n",
    "    - Mention Variable of Total Marks and assign 300 to it\n",
    "    - Calculate Percentage"
   ]
  },
  {
   "cell_type": "code",
   "execution_count": null,
   "metadata": {},
   "outputs": [],
   "source": [
    "english = 78\n",
    "islamiyat = 85\n",
    "math = 90   \n",
    "\n",
    "obtained_marks = english + islamiyat + math\n",
    "total_marks = 300   \n",
    "percentage = (obtained_marks / total_marks) * 100\n",
    "print(\"Percentage:\", percentage)"
   ]
  },
  {
   "cell_type": "markdown",
   "metadata": {},
   "source": [
    "# Part -2 Python Basics (Conditional Statements)"
   ]
  },
  {
   "cell_type": "markdown",
   "metadata": {},
   "source": [
    "1) A company decided to give bonus of 5% to employee if his/her year of service is more than 5 years.\n",
    "Ask user for their salary and year of service and print the net bonus amount."
   ]
  },
  {
   "cell_type": "code",
   "execution_count": null,
   "metadata": {},
   "outputs": [],
   "source": [
    "years = int(input(\"Your year of services: \"))\n",
    "if years  >= 5:\n",
    "    salary = int(input(\"Your salary: \"))\n",
    "    bonus = (5 / 100) * salary\n",
    "    print(\"Your bonus is:\", bonus)\n",
    "else:\n",
    "    print(\"No bonus, since your service is 5 years or less.\")"
   ]
  },
  {
   "cell_type": "markdown",
   "metadata": {},
   "source": [
    "\n",
    "2) Write a program to check whether a person is eligible for voting or not. (accept age from user) if age is greater than 17 eligible otherwise not eligible"
   ]
  },
  {
   "cell_type": "code",
   "execution_count": null,
   "metadata": {},
   "outputs": [],
   "source": [
    "age2 = int(input(\"Enter your age:\"))\n",
    "if age2 >= 18:\n",
    "    print(\"You are eligible to vote.\")\n",
    "else:\n",
    "    print(\"You are not eligible to vote yet.\")"
   ]
  },
  {
   "cell_type": "markdown",
   "metadata": {},
   "source": [
    "\n",
    "3) Write a program to check whether a number entered by user is even or odd."
   ]
  },
  {
   "cell_type": "code",
   "execution_count": null,
   "metadata": {},
   "outputs": [],
   "source": [
    "number = int(input(\"Enter a number: \"))          \n",
    "if number % 2 == 0:\n",
    "    print(\"The number is even.\")    \n",
    "else:\n",
    "    print(\"The number is odd.\")"
   ]
  },
  {
   "cell_type": "markdown",
   "metadata": {},
   "source": [
    "4) Write a program to check whether a number is divisible by 7 or not.\n",
    "Show Answer"
   ]
  },
  {
   "cell_type": "code",
   "execution_count": null,
   "metadata": {},
   "outputs": [],
   "source": [
    "number2 = int(input(\"Enter a number: \"))\n",
    "if number2 % 7 == 0:\n",
    "    print(\"The number is divisible by 7.\")\n",
    "else:   \n",
    "    print(\"The number is not divisible by 7.\")"
   ]
  },
  {
   "cell_type": "markdown",
   "metadata": {},
   "source": [
    "5) Write a program to display \n",
    "\"Hello\" if a number entered by user is a multiple of five , otherwise print \"Bye\"."
   ]
  },
  {
   "cell_type": "code",
   "execution_count": null,
   "metadata": {},
   "outputs": [],
   "source": [
    "number3 = int(input(\"Enter a number: \"))\n",
    "if number3 % 5 == 0:\n",
    "    print(\"hello\")\n",
    "else:\n",
    "    print(\"bye\")"
   ]
  },
  {
   "cell_type": "markdown",
   "metadata": {},
   "source": [
    "7) Write a program to display the last digit of a number.\n"
   ]
  },
  {
   "cell_type": "code",
   "execution_count": null,
   "metadata": {},
   "outputs": [],
   "source": [
    "number4 = int(input(\"Enter a number: \"))\n",
    "last_digit = number4 % 10 \n",
    "print(\"The last digit is:\", last_digit)"
   ]
  },
  {
   "cell_type": "markdown",
   "metadata": {},
   "source": [
    "9) Take values of length and breadth of a rectangle from user and print if it is square or rectangle."
   ]
  },
  {
   "cell_type": "code",
   "execution_count": null,
   "metadata": {},
   "outputs": [],
   "source": [
    "length = int(input(\"Enter length\"))\n",
    "breadth = int(input(\"Enter breadth\"))\n",
    "if length == breadth:\n",
    "    print(\"It is a square\")\n",
    "else:\n",
    "    print(\"It is a rectangle\")"
   ]
  },
  {
   "cell_type": "markdown",
   "metadata": {},
   "source": [
    "10) Take two int values from user and print greatest among them."
   ]
  },
  {
   "cell_type": "code",
   "execution_count": null,
   "metadata": {},
   "outputs": [],
   "source": [
    "val1 = int(input(\"Enter first value: \"))\n",
    "val2 = int(input(\"Enter second value: \"))   \n",
    "if val1 > val2:\n",
    "    print(f\"{val1} is greater\")\n",
    "elif val2 > val1:\n",
    "    print(f\"{val2} is greater\")\n",
    "else:\n",
    "    print(\"chala jaaa bhai\")"
   ]
  },
  {
   "cell_type": "markdown",
   "metadata": {},
   "source": [
    "11) A shop will give discount of 10% if the cost of purchased quantity is more than 1000.\n",
    "Ask user for quantity\n",
    "Suppose, one unit will cost 100.\n",
    "Judge and print total cost for user."
   ]
  },
  {
   "cell_type": "code",
   "execution_count": null,
   "metadata": {},
   "outputs": [],
   "source": [
    "unit = int(input(\"How many units you want to buy:\"))\n",
    "cost1 = unit * 100\n",
    "if cost1 > 1000:\n",
    "    discount = cost1 *0.10\n",
    "    cost1 -= discount\n",
    "    print(f\"your total cost after discount is {cost1}\")\n",
    "else:\n",
    "    print(f\"your total cost is {cost1}\")"
   ]
  },
  {
   "cell_type": "markdown",
   "metadata": {},
   "source": [
    "12) A school has following rules for grading system:\n",
    "\n",
    "a. Below 25 - F\n",
    "\n",
    "b. 25 to 45 - E\n",
    "\n",
    "c. 45 to 50 - D\n",
    "\n",
    "d. 50 to 60 - C\n",
    "\n",
    "e. 60 to 80 - B\n",
    "\n",
    "f. Above 80 - A\n",
    "\n",
    "Ask user to enter marks and print the corresponding grade."
   ]
  },
  {
   "cell_type": "code",
   "execution_count": null,
   "metadata": {},
   "outputs": [],
   "source": [
    "marks = int(input(\"Enter your marks: \"))\n",
    "if marks >= 80:\n",
    "    print(\"A\")\n",
    "elif 60 <= marks < 80:\n",
    "        print(\"B\")\n",
    "elif 50 <= marks < 60:\n",
    "        print(\"C\")\n",
    "elif 45 <= marks < 50:\n",
    "        print(\"D\")\n",
    "elif 25 <= marks < 45:\n",
    "        print(\"E\")\n",
    "else:\n",
    "    print(\"F\")"
   ]
  },
  {
   "cell_type": "markdown",
   "metadata": {},
   "source": [
    "14)A student will not be allowed to sit in exam if his/her attendence is less than 75%.\n",
    "\n",
    "Take following input from user\n",
    "\n",
    "- Number of classes held\n",
    "\n",
    "- Number of classes attended.\n",
    "\n",
    "And print\n",
    "\n",
    "- percentage of class attended\n",
    "\n",
    "- Is student is allowed to sit in exam or not.\n"
   ]
  },
  {
   "cell_type": "code",
   "execution_count": null,
   "metadata": {},
   "outputs": [],
   "source": [
    "classes_attended = int(input(\"Enter number of classes attended: \"))\n",
    "total_classes = int(input(\"Enter total number of classes: \")) \n",
    "percentage = (classes_attended / total_classes) * 100\n",
    "print(f\"Your attendance percentage is: {percentage}%\")\n",
    "if percentage >= 75: \n",
    "    print(\"You are allowed to sit in the exam.\")\n",
    "else:   \n",
    "    print(\"You are not allowed to sit in the exam.\")\n"
   ]
  },
  {
   "cell_type": "markdown",
   "metadata": {},
   "source": [
    "15) Modify the above question to allow student to sit if he/she has medical cause. Ask user if he/she has medical cause or not ( 'Y' or 'N' ) and print accordingly."
   ]
  },
  {
   "cell_type": "code",
   "execution_count": null,
   "metadata": {},
   "outputs": [],
   "source": [
    "classes_attended = int(input(\"Enter number of classes attended: \"))\n",
    "total_classes = int(input(\"Enter total number of classes: \")) \n",
    "cause = (input(\"do you have a medical cause? ('Y or N'): \")).upper()\n",
    "percentage = (classes_attended / total_classes) * 100\n",
    "print(f\"Your attendance percentage is: {percentage}%\")\n",
    "if percentage >= 75: \n",
    "    print(\"You are allowed to sit in the exam.\")\n",
    "elif cause == \"Y\":\n",
    "        print(\"You are allowed to sit in the exam.\")\n",
    "else:   \n",
    "    print(\"You are not allowed to sit in the exam.\")"
   ]
  },
  {
   "cell_type": "markdown",
   "metadata": {},
   "source": [
    "16) Write a program to check if a year is leap year or not.\n",
    "\n",
    "If a year is divisible by 4 then it is leap year but if the year is century year like 2000, 1900, 2100 then it must be divisible by 400."
   ]
  },
  {
   "cell_type": "code",
   "execution_count": null,
   "metadata": {},
   "outputs": [],
   "source": [
    "leapyear = int(input(\"Enter a year: \"))\n",
    "if leapyear % 400 == 0:\n",
    "        print(f\"{leapyear} is a leap year.\") \n",
    "elif leapyear % 100 == 0:\n",
    "        print(f\"{leapyear} is not a leap year.\") \n",
    "elif leapyear % 4 == 0:\n",
    "    print(f\"{leapyear} is a leap year.\")   \n",
    "  \n",
    "else:\n",
    "    print(f\"{leapyear} is not a leap year.\")"
   ]
  },
  {
   "cell_type": "markdown",
   "metadata": {},
   "source": [
    "17) Ask user to enter age, gender ( M or F ), marital status ( Y or N ) and then using following rules print their place of service.\n",
    "\n",
    "if employee is female, then she will work only in urban areas.\n",
    "\n",
    "if employee is a male and age is in between 20 to 40 then he may work in anywhere\n",
    "\n",
    "if employee is male and age is in between 40 t0 60 then he will work in urban areas only.\n",
    "\n",
    "And any other input of age should print \"ERROR\""
   ]
  },
  {
   "cell_type": "code",
   "execution_count": null,
   "metadata": {},
   "outputs": [],
   "source": [
    "age = int(input(\"Enter your age: \"))\n",
    "gender = input(\"Enter your gender (M or F): \").upper()\n",
    "martial_status = input(\"Enter your marital status (Y or N): \").upper()\n",
    "if gender == \"F\":\n",
    "    print(\"You can work in urban areas only.\")  \n",
    "elif gender == \"M\" and 20 <= age <= 40:\n",
    "        print(\"You can work anywhere.\") \n",
    "elif gender == \"M\" and 40 < age <= 60:\n",
    "        print(\"You can work in urban areas only.\")  \n",
    "\n",
    "else:\n",
    "    print(\"ERROR\")"
   ]
  },
  {
   "cell_type": "markdown",
   "metadata": {},
   "source": [
    "6) Write a program to calculate the electricity bill (accept number of unit from user) according to the following criteria :\n",
    "     Unit                                                     Price  \n",
    "uptp 100 units                                             no charge\n",
    "Next 200 units                                              Rs 5 per unit\n",
    "After 200 units                                             Rs 10 per unit\n",
    "(For example if input unit is 350 than total bill amount is Rs.3500\n",
    "(For example if input unit is 97 than total bill amount is Rs.0\n",
    "(For example if input unit is 150 than total bill amount is Rs.750"
   ]
  },
  {
   "cell_type": "code",
   "execution_count": null,
   "metadata": {},
   "outputs": [],
   "source": [
    "keunit = int(input(\"Enter the number of units :\"))\n",
    "if keunit <= 100:\n",
    "    print(\"no charges\")\n",
    "elif keunit <= 200:\n",
    "        cost = keunit * 5\n",
    "        print(f\"your total cost is {cost}\")\n",
    "elif keunit > 200:\n",
    "    cost = keunit * 10 \n",
    "    print (f\"your total cost is {cost}\")"
   ]
  },
  {
   "cell_type": "markdown",
   "metadata": {},
   "source": [
    "13) Take input of age of 3 people by user and determine oldest and youngest among them."
   ]
  },
  {
   "cell_type": "code",
   "execution_count": null,
   "metadata": {},
   "outputs": [],
   "source": [
    "person1 = int(input(\"Enter age of person 1: \"))\n",
    "person2 = int(input(\"Enter age of person 2: \"))\n",
    "person3 = int(input(\"Enter age of person 3: \"))\n",
    "\n",
    "oldest = max(person1, person2, person3)\n",
    "youngest = min(person1, person2, person3)\n",
    "\n",
    "print(f\"The oldest age is {oldest}\")\n",
    "print(f\"The youngest age is {youngest}\")"
   ]
  }
 ],
 "metadata": {
  "kernelspec": {
   "display_name": "Python 3 (ipykernel)",
   "language": "python",
   "name": "python3"
  },
  "language_info": {
   "codemirror_mode": {
    "name": "ipython",
    "version": 3
   },
   "file_extension": ".py",
   "mimetype": "text/x-python",
   "name": "python",
   "nbconvert_exporter": "python",
   "pygments_lexer": "ipython3",
   "version": "3.11.5"
  }
 },
 "nbformat": 4,
 "nbformat_minor": 2
}
